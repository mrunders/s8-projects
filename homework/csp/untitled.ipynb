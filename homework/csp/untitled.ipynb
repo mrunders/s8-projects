{
 "cells": [
  {
   "cell_type": "markdown",
   "metadata": {},
   "source": [
    "# Latin Square "
   ]
  },
  {
   "cell_type": "markdown",
   "metadata": {},
   "source": [
    "Un *Latin square* d'ordre **n** est un carré de **n x n** dimension remplit avec **n** sumboles différents.\n",
    "Chaque lignes et colonnes douvent contenir au plus un seul occurance du même symbole."
   ]
  },
  {
   "cell_type": "markdown",
   "metadata": {},
   "source": [
    "Ceci est un *Latin Square* valide:"
   ]
  },
  {
   "cell_type": "markdown",
   "metadata": {},
   "source": [
    "<table>\n",
    "    <tr style=\"background-color:#fff\"><td>1</td><td>2</td><td>3</td><td>4</td></tr>\n",
    "    <tr style=\"background-color:#fff\"><td>3</td><td>4</td><td>1</td><td>2</td></tr>\n",
    "    <tr style=\"background-color:#fff\"><td>4</td><td>3</td><td>2</td><td>1</td></tr>\n",
    "    <tr style=\"background-color:#fff\"><td>2</td><td>1</td><td>4</td><td>3</td></tr>\n",
    "</table>\n",
    "    "
   ]
  },
  {
   "cell_type": "markdown",
   "metadata": {},
   "source": [
    "On dit que deux *Latin Squares* sont orthogonal que si la superposition de ses deux tableaux forment un tableau où aucun élement n'apparait plus d'une fois:\n",
    "\n",
    "Ceci sont deux *Latin Squares* orthogonal:"
   ]
  },
  {
   "cell_type": "markdown",
   "metadata": {},
   "source": [
    "<div style=\"display: block-inline\">\n",
    "<table>\n",
    "    <tr style=\"background-color:#fff\"><td>1</td><td>2</td><td>3</td></tr>\n",
    "    <tr style=\"background-color:#fff\"><td>2</td><td>3</td><td>1</td></tr>\n",
    "    <tr style=\"background-color:#fff\"><td>3</td><td>1</td><td>2</td></tr>\n",
    "</table>\n",
    "+\n",
    "<table>\n",
    "    <tr style=\"background-color:#fff\"><td>1</td><td>2</td><td>3</td></tr>\n",
    "    <tr style=\"background-color:#fff\"><td>3</td><td>1</td><td>2</td></tr>\n",
    "    <tr style=\"background-color:#fff\"><td>2</td><td>3</td><td>1</td></tr>\n",
    "</table>\n",
    "</div>\n",
    "=\n",
    "<table>\n",
    "    <tr style=\"background-color:#fff\"><td>11</td><td>22</td><td>33</td></tr>\n",
    "    <tr style=\"background-color:#fff\"><td>32</td><td>13</td><td>21</td></tr>\n",
    "    <tr style=\"background-color:#fff\"><td>23</td><td>31</td><td>12</td></tr>\n",
    "</table>"
   ]
  },
  {
   "cell_type": "markdown",
   "metadata": {},
   "source": [
    "----"
   ]
  },
  {
   "cell_type": "markdown",
   "metadata": {},
   "source": [
    "Une technique de résolution glouton serait de procéder comme ceci:"
   ]
  },
  {
   "cell_type": "code",
   "execution_count": 12,
   "metadata": {},
   "outputs": [],
   "source": [
    "def model(n):\n",
    "    a = array(dimensions=(n,n), domain=range(n))\n",
    "\n",
    "    for line in a:\n",
    "        alldifferent(line)\n",
    "\n",
    "    for column in a.Transpose:\n",
    "        alldifferent(column)"
   ]
  },
  {
   "cell_type": "markdown",
   "metadata": {},
   "source": [
    "----"
   ]
  },
  {
   "cell_type": "markdown",
   "metadata": {},
   "source": [
    "## Quand on regarde certain *Latin Squares* on voit des similitudes:"
   ]
  },
  {
   "cell_type": "markdown",
   "metadata": {},
   "source": [
    "<table>\n",
    "    <tr style=\"background-color:#fff\"><td style=\"color:#f00\">1</td><td style=\"color:#f00\">2</td><td style=\"color:#f00\">3</td><td style=\"color:#f00\">4</td><td style=\"color:#f00\">5</td></tr>\n",
    "    <tr style=\"background-color:#fff\"><td style=\"color:#f00\">2</td><td>3</td><td>4</td><td>5</td><td>1</td></tr>\n",
    "    <tr style=\"background-color:#fff\"><td style=\"color:#f00\">3</td><td>4</td><td>5</td><td>1</td><td>2</td></tr>\n",
    "    <tr style=\"background-color:#fff\"><td style=\"color:#f00\">4</td><td>5</td><td>1</td><td>2</td><td>3</td></tr>\n",
    "    <tr style=\"background-color:#fff\"><td style=\"color:#f00\">5</td><td>1</td><td>2</td><td>3</td><td>4</td></tr>\n",
    "</table>"
   ]
  },
  {
   "cell_type": "markdown",
   "metadata": {},
   "source": [
    "<table>\n",
    "    <tr style=\"background-color:#fff\"><td style=\"color:#f00\">1</td><td style=\"color:#f00\">2</td><td style=\"color:#f00\">3</td><td style=\"color:#f00\">4</td></tr>\n",
    "    <tr style=\"background-color:#fff\"><td style=\"color:#f00\">2</td><td>1</td><td>4</td><td>3</td></tr>\n",
    "    <tr style=\"background-color:#fff\"><td style=\"color:#f00\">3</td><td>4</td><td>1</td><td>2</td></tr>\n",
    "    <tr style=\"background-color:#fff\"><td style=\"color:#f00\">4</td><td>3</td><td>2</td><td>1</td></tr>\n",
    "</table>"
   ]
  },
  {
   "cell_type": "markdown",
   "metadata": {},
   "source": [
    "<table>\n",
    "    <tr style=\"background-color:#fff\"><td style=\"color:#f00\">1</td><td style=\"color:#f00\">2</td><td style=\"color:#f00\">3</td></tr>\n",
    "    <tr style=\"background-color:#fff\"><td style=\"color:#f00\">2</td><td>3</td><td>1</td></tr>\n",
    "    <tr style=\"background-color:#fff\"><td style=\"color:#f00\">3</td><td>1</td><td>2</td></tr>\n",
    "</table>"
   ]
  },
  {
   "cell_type": "markdown",
   "metadata": {},
   "source": [
    "Pour ces *latin squares* on remarque qu'on peut directement assigner les valeurs de la première ligne et colonne:"
   ]
  },
  {
   "cell_type": "code",
   "execution_count": 13,
   "metadata": {},
   "outputs": [],
   "source": [
    "def model(n):\n",
    "    a = array(dimensions=(n,n), domain=range(n))\n",
    "    \n",
    "    a[0] = range(n)\n",
    "    a.Transpose[0] = range(n)\n",
    "\n",
    "    for line in a:\n",
    "        alldifferent(line)\n",
    "\n",
    "    for column in a.Transpose:\n",
    "        alldifferent(column)"
   ]
  },
  {
   "cell_type": "markdown",
   "metadata": {},
   "source": [
    "On remarque aussi une symétrie diagonale, chaque éléments dans le coté en bas à gauche et le même en haut à droite:"
   ]
  },
  {
   "cell_type": "markdown",
   "metadata": {},
   "source": [
    "<table>\n",
    "    <tr style=\"background-color:#fff\"><td>1</td><td style=\"color:#f06\">2</td><td style=\"color:#f09\">3</td><td style=\"color:#f0c\">4</td></tr>\n",
    "    <tr style=\"background-color:#fff\"><td style=\"color:#f06\">2</td><td>1</td><td style=\"color:#00f\">4</td><td style=\"color:#0ff\">3</td></tr>\n",
    "    <tr style=\"background-color:#fff\"><td style=\"color:#f09\">3</td><td style=\"color:#00f\">4</td><td>1</td><td style=\"color:#ff0\">2</td></tr>\n",
    "    <tr style=\"background-color:#fff\"><td style=\"color:#f0c\">4</td><td style=\"color:#0ff\">3</td><td style=\"color:#ff0\">2</td><td>1</td></tr>\n",
    "</table>"
   ]
  },
  {
   "cell_type": "code",
   "execution_count": 15,
   "metadata": {},
   "outputs": [],
   "source": [
    "def model(n):\n",
    "    a = array(dimensions=(n,n), domain=range(n))\n",
    "    \n",
    "    a[0] = range(n)\n",
    "    a.Transpose[0] = range(n)\n",
    "    \n",
    "    for x,y in range(n),range(n):\n",
    "        a[x][y] == a[y][x]\n",
    "\n",
    "    for line in a:\n",
    "        alldifferent(line)\n",
    "\n",
    "    for column in a.Transpose:\n",
    "        alldifferent(column)"
   ]
  },
  {
   "cell_type": "markdown",
   "metadata": {},
   "source": [
    "### Certain sont même très simple à raisoudre"
   ]
  },
  {
   "cell_type": "markdown",
   "metadata": {},
   "source": [
    "<table>\n",
    "    <tr style=\"background-color:#fff\"><td>1</td><td>2</td><td>3</td><td>4</td><td>5</td></tr>\n",
    "    <tr style=\"background-color:#fff\"><td>2</td><td>3</td><td>4</td><td>5</td><td>1</td></tr>\n",
    "    <tr style=\"background-color:#fff\"><td>3</td><td>4</td><td>5</td><td>1</td><td>2</td></tr>\n",
    "    <tr style=\"background-color:#fff\"><td>4</td><td>5</td><td>1</td><td>2</td><td>3</td></tr>\n",
    "    <tr style=\"background-color:#fff\"><td>5</td><td>1</td><td>2</td><td>3</td><td>4</td></tr>\n",
    "</table>"
   ]
  },
  {
   "cell_type": "markdown",
   "metadata": {},
   "source": [
    "<table>\n",
    "    <tr style=\"background-color:#fff\"><td>1</td><td>2</td><td>3</td><td>4</td></tr>\n",
    "    <tr style=\"background-color:#fff\"><td>2</td><td>3</td><td>4</td><td>1</td></tr>\n",
    "    <tr style=\"background-color:#fff\"><td>3</td><td>4</td><td>1</td><td>2</td></tr>\n",
    "    <tr style=\"background-color:#fff\"><td>4</td><td>1</td><td>2</td><td>3</td></tr>\n",
    "</table>"
   ]
  },
  {
   "cell_type": "markdown",
   "metadata": {},
   "source": [
    "<table>\n",
    "    <tr style=\"background-color:#fff\"><td>1</td><td>2</td><td>3</td></tr>\n",
    "    <tr style=\"background-color:#fff\"><td>2</td><td>3</td><td>1</td></tr>\n",
    "    <tr style=\"background-color:#fff\"><td>3</td><td>1</td><td>2</td></tr>\n",
    "</table>"
   ]
  },
  {
   "cell_type": "markdown",
   "metadata": {},
   "source": [
    "Chaque ligne est identique à celle du dessus sauf qu'on n'a inséré le première élement au bout de la liste,\n",
    "ce qui rend le problème trivialement résolvable:"
   ]
  },
  {
   "cell_type": "code",
   "execution_count": 16,
   "metadata": {},
   "outputs": [],
   "source": [
    "def model(n):\n",
    "    a = array(dimensions=(n,n), domain=range(n))\n",
    "    \n",
    "    tmp = range(n)\n",
    "    for line in range(n):\n",
    "        a[line] = tmp\n",
    "        tmp = tmp[1:] + tmp[0]"
   ]
  },
  {
   "cell_type": "code",
   "execution_count": null,
   "metadata": {},
   "outputs": [],
   "source": []
  }
 ],
 "metadata": {
  "kernelspec": {
   "display_name": "Python 2",
   "language": "python",
   "name": "python2"
  },
  "language_info": {
   "codemirror_mode": {
    "name": "ipython",
    "version": 2
   },
   "file_extension": ".py",
   "mimetype": "text/x-python",
   "name": "python",
   "nbconvert_exporter": "python",
   "pygments_lexer": "ipython2",
   "version": "2.7.15"
  }
 },
 "nbformat": 4,
 "nbformat_minor": 2
}
