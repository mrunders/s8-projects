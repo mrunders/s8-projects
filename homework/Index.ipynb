{
 "cells": [
  {
   "cell_type": "markdown",
   "metadata": {},
   "source": [
    "# Latin square project"
   ]
  },
  {
   "cell_type": "markdown",
   "metadata": {},
   "source": [
    "Latin square is a N * N table with N differents symbols, but all symbol must be printed one and only one time on each row and columns.\n",
    "\n",
    "This is an exemple:"
   ]
  },
  {
   "cell_type": "markdown",
   "metadata": {},
   "source": [
    "<table>\n",
    "    <tr><td>A</td><td>B</td><td>C</td></tr>\n",
    "    <tr><td>B</td><td>C</td><td>A</td></tr>\n",
    "    <tr><td>C</td><td>A</td><td>B</td></tr>\n",
    "</table>"
   ]
  },
  {
   "cell_type": "markdown",
   "metadata": {},
   "source": [
    "<hr>"
   ]
  },
  {
   "cell_type": "markdown",
   "metadata": {},
   "source": [
    "lets think about an algorithm that can solve this kind of problem but with N a variable."
   ]
  },
  {
   "cell_type": "code",
   "execution_count": 1,
   "metadata": {},
   "outputs": [],
   "source": [
    "class Problem():\n",
    "    \n",
    "    def __init__(self, n):\n",
    "        self.__n = n\n",
    "    \n",
    "    def model(self):\n",
    "        \n",
    "        m = matrix(dimension=(self.__n,self.__n), domain=range(self.__n))\n",
    "        \n",
    "        for row in m:\n",
    "            alldifferent(*row)\n",
    "            \n",
    "        for column in m.T:\n",
    "            alldifferent(*columns)\n",
    "        "
   ]
  },
  {
   "cell_type": "code",
   "execution_count": null,
   "metadata": {},
   "outputs": [],
   "source": []
  }
 ],
 "metadata": {
  "kernelspec": {
   "display_name": "Python 3",
   "language": "python",
   "name": "python3"
  },
  "language_info": {
   "codemirror_mode": {
    "name": "ipython",
    "version": 3
   },
   "file_extension": ".py",
   "mimetype": "text/x-python",
   "name": "python",
   "nbconvert_exporter": "python",
   "pygments_lexer": "ipython3",
   "version": "3.6.7"
  }
 },
 "nbformat": 4,
 "nbformat_minor": 2
}
